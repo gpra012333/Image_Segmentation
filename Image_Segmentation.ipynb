{
 "cells": [
  {
   "cell_type": "code",
   "execution_count": 1,
   "id": "d91b16d8-fa40-4784-a3ec-c4478e20e31d",
   "metadata": {},
   "outputs": [],
   "source": [
    "import cv2\n",
    "import numpy as np"
   ]
  },
  {
   "cell_type": "code",
   "execution_count": 8,
   "id": "b06e7e28-a5f2-47e2-b413-c78e29cc4a18",
   "metadata": {},
   "outputs": [],
   "source": [
    "cap = cv2.VideoCapture(0)\n",
    "\n",
    "while(True):\n",
    "    ret,img = cap.read()\n",
    "    \n",
    "    #Reshaping the image to feed into kmeans clustering algo.\n",
    "    Z = img.reshape((-1,3))\n",
    "\n",
    "    Z = np.float32(Z)\n",
    "    \n",
    "    # define criteria, number of clusters(K) and apply kmeans()\n",
    "    # here TERM_CRITERIA_EPS is used to capture the frame accuracy more than 90% or 0.9\n",
    "    # If by some resome accuracy couldn't reach 0.9 then after 3 iteration it give a criteria by TERM_CRITERIA_MAX_ITER\n",
    "    criteria = (cv2.TERM_CRITERIA_EPS + cv2.TERM_CRITERIA_MAX_ITER, 3, 0.9)\n",
    "    \n",
    "    #Number of clusters to be defined\n",
    "    K = 12\n",
    "    ret,label,center=cv2.kmeans(Z,K,None,criteria,2,cv2.KMEANS_RANDOM_CENTERS)\n",
    "    \n",
    "    center = np.uint8(center)\n",
    "    res = center[label.flatten()]\n",
    "    res2 = res.reshape((img.shape))\n",
    "    cv2.imshow(\"Cartoonised\", res2)\n",
    "    if(cv2.waitKey(9)==ord('q')):\n",
    "        break\n",
    "\n",
    "cap.release()\n",
    "cv2.destroyAllWindows()"
   ]
  },
  {
   "cell_type": "code",
   "execution_count": null,
   "id": "f7b0ec6a-6206-4433-9877-4138668f911c",
   "metadata": {},
   "outputs": [],
   "source": []
  },
  {
   "cell_type": "code",
   "execution_count": null,
   "id": "ccfe30e0-6148-44a5-ab17-ab85074e2752",
   "metadata": {},
   "outputs": [],
   "source": []
  }
 ],
 "metadata": {
  "kernelspec": {
   "display_name": "Python 3 (ipykernel)",
   "language": "python",
   "name": "python3"
  },
  "language_info": {
   "codemirror_mode": {
    "name": "ipython",
    "version": 3
   },
   "file_extension": ".py",
   "mimetype": "text/x-python",
   "name": "python",
   "nbconvert_exporter": "python",
   "pygments_lexer": "ipython3",
   "version": "3.11.5"
  }
 },
 "nbformat": 4,
 "nbformat_minor": 5
}
